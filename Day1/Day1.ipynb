{
 "cells": [
  {
   "cell_type": "code",
   "execution_count": 16,
   "metadata": {},
   "outputs": [],
   "source": [
    "# Read Input\n",
    "l_list = []\n",
    "r_list = []\n",
    "with open(\"input.txt\") as file:\n",
    "    for line in file:\n",
    "      (l,r) = line.split(\"   \")\n",
    "      l_list.append(int(l))\n",
    "      r_list.append(int(r.rstrip()))"
   ]
  },
  {
   "cell_type": "code",
   "execution_count": 17,
   "metadata": {},
   "outputs": [],
   "source": [
    "l_list = sorted(l_list)\n",
    "r_list = sorted(r_list)"
   ]
  },
  {
   "cell_type": "code",
   "execution_count": 18,
   "metadata": {},
   "outputs": [
    {
     "data": {
      "text/plain": [
       "1873376"
      ]
     },
     "execution_count": 18,
     "metadata": {},
     "output_type": "execute_result"
    }
   ],
   "source": [
    "total_distance = 0\n",
    "for l, r in zip(l_list, r_list):\n",
    "    total_distance += abs(l-r)\n",
    "\n",
    "total_distance"
   ]
  },
  {
   "cell_type": "markdown",
   "metadata": {},
   "source": [
    "### Part 2"
   ]
  },
  {
   "cell_type": "code",
   "execution_count": null,
   "metadata": {},
   "outputs": [],
   "source": [
    "dict_l = {}\n",
    "dict_r = {}\n"
   ]
  },
  {
   "cell_type": "code",
   "execution_count": 22,
   "metadata": {},
   "outputs": [],
   "source": [
    "for l,r in zip(l_list, r_list):\n",
    "    if l in dict_l:\n",
    "        dict_l[l] += 1\n",
    "    else:\n",
    "        dict_l[l] = 1\n",
    "    \n",
    "    if r in dict_r:\n",
    "        dict_r[r] += 1\n",
    "    else:\n",
    "        dict_r[r] = 1"
   ]
  },
  {
   "cell_type": "code",
   "execution_count": 26,
   "metadata": {},
   "outputs": [
    {
     "data": {
      "text/plain": [
       "18997088"
      ]
     },
     "execution_count": 26,
     "metadata": {},
     "output_type": "execute_result"
    }
   ],
   "source": [
    "similarity_score = 0\n",
    "\n",
    "for num in l_list:\n",
    "    if num in dict_r:\n",
    "        similarity_score += (num * dict_r[num])\n",
    "\n",
    "similarity_score"
   ]
  },
  {
   "cell_type": "code",
   "execution_count": null,
   "metadata": {},
   "outputs": [],
   "source": []
  }
 ],
 "metadata": {
  "kernelspec": {
   "display_name": "pytorch",
   "language": "python",
   "name": "python3"
  },
  "language_info": {
   "codemirror_mode": {
    "name": "ipython",
    "version": 3
   },
   "file_extension": ".py",
   "mimetype": "text/x-python",
   "name": "python",
   "nbconvert_exporter": "python",
   "pygments_lexer": "ipython3",
   "version": "3.12.3"
  }
 },
 "nbformat": 4,
 "nbformat_minor": 2
}
