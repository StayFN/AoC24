{
 "cells": [
  {
   "cell_type": "code",
   "execution_count": 79,
   "metadata": {},
   "outputs": [],
   "source": [
    "lines = []\n",
    "\n",
    "with open(\"input.txt\") as file:\n",
    "    [lines.append(line.replace(\"\\n\", \"\")) for line in file]"
   ]
  },
  {
   "cell_type": "code",
   "execution_count": 81,
   "metadata": {},
   "outputs": [],
   "source": [
    "# Function to extract top-left to bottom-right diagonals\n",
    "def get_primary_diagonals(grid):\n",
    "    diagonals = []\n",
    "    n = len(grid)\n",
    "    for d in range(-n + 1, n):  # Diagonals' indices range from -(n-1) to (n-1)\n",
    "        diagonal = ''.join(grid[i][i - d] for i in range(max(0, d), min(n, n + d)))\n",
    "        diagonals.append(diagonal)\n",
    "    return diagonals\n",
    "\n",
    "# Function to extract top-right to bottom-left diagonals\n",
    "def get_secondary_diagonals(grid):\n",
    "    diagonals = []\n",
    "    n = len(grid)\n",
    "    for d in range(2 * n - 1):  # Secondary diagonals range from 0 to (2n-2)\n",
    "        diagonal = ''.join(grid[i][d - i] for i in range(max(0, d - n + 1), min(n, d + 1)))\n",
    "        diagonals.append(diagonal)\n",
    "    return diagonals"
   ]
  },
  {
   "cell_type": "code",
   "execution_count": 82,
   "metadata": {},
   "outputs": [
    {
     "data": {
      "text/plain": [
       "2504"
      ]
     },
     "execution_count": 82,
     "metadata": {},
     "output_type": "execute_result"
    }
   ],
   "source": [
    "import re\n",
    "\n",
    "total_count = 0\n",
    "\n",
    "### Horizontal XMAS Forward and Reverse\n",
    "pattern = r\"XMAS\"\n",
    "for line in lines:\n",
    "    for direction in (line, line[::-1]): # Forward and Backward\n",
    "        #Forward\n",
    "        matches = re.findall(pattern, direction)\n",
    "        count = len(matches)\n",
    "        total_count += count\n",
    "\n",
    "\n",
    "###Vertical Forward and Reverse\n",
    "columns = [\"\".join(column) for column in zip(*lines)] #Transpose Rows \n",
    "for column in columns:\n",
    "    for direction in (column, column[::-1]):  # Downward and upward\n",
    "        matches = re.findall(pattern, direction)\n",
    "        total_count += len(matches)\n",
    "\n",
    "\n",
    "## Diagonals 4 Ways\n",
    "primary_diagonals = get_primary_diagonals(lines)\n",
    "secondary_diagonals = get_secondary_diagonals(lines)\n",
    "\n",
    "for diagonal in primary_diagonals:\n",
    "    for direction in (diagonal, diagonal[::-1]):\n",
    "        matches = re.findall(pattern, direction)\n",
    "        total_count += len(matches)\n",
    "\n",
    "\n",
    "for diagonal in secondary_diagonals:\n",
    "    for direction in (diagonal, diagonal[::-1]):\n",
    "        matches = re.findall(pattern, direction)\n",
    "        total_count += len(matches)\n",
    "\n",
    "total_count"
   ]
  },
  {
   "cell_type": "code",
   "execution_count": null,
   "metadata": {},
   "outputs": [],
   "source": []
  }
 ],
 "metadata": {
  "kernelspec": {
   "display_name": "pytorch",
   "language": "python",
   "name": "python3"
  },
  "language_info": {
   "codemirror_mode": {
    "name": "ipython",
    "version": 3
   },
   "file_extension": ".py",
   "mimetype": "text/x-python",
   "name": "python",
   "nbconvert_exporter": "python",
   "pygments_lexer": "ipython3",
   "version": "3.12.3"
  }
 },
 "nbformat": 4,
 "nbformat_minor": 2
}
